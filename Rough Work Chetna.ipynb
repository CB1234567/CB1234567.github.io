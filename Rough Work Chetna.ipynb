{
 "cells": [
  {
   "cell_type": "code",
   "execution_count": 1,
   "id": "bf54f98e",
   "metadata": {},
   "outputs": [],
   "source": [
    "from plotly.offline import plot\n",
    "from plotly.offline import iplot\n",
    "import plotly.graph_objs as go"
   ]
  },
  {
   "cell_type": "code",
   "execution_count": 2,
   "id": "800150d7",
   "metadata": {},
   "outputs": [
    {
     "ename": "NameError",
     "evalue": "name 'px' is not defined",
     "output_type": "error",
     "traceback": [
      "\u001b[0;31m---------------------------------------------------------------------------\u001b[0m",
      "\u001b[0;31mNameError\u001b[0m                                 Traceback (most recent call last)",
      "\u001b[0;32m/var/folders/hz/r5f1xnns3356kl1typclq6k40000gn/T/ipykernel_85775/1437031171.py\u001b[0m in \u001b[0;36m<module>\u001b[0;34m\u001b[0m\n\u001b[0;32m----> 1\u001b[0;31m \u001b[0mfig\u001b[0m \u001b[0;34m=\u001b[0m \u001b[0mpx\u001b[0m\u001b[0;34m.\u001b[0m\u001b[0mhistogram\u001b[0m\u001b[0;34m(\u001b[0m\u001b[0mfilm_permits\u001b[0m\u001b[0;34m,\u001b[0m \u001b[0mx\u001b[0m\u001b[0;34m=\u001b[0m\u001b[0;34m'category'\u001b[0m\u001b[0;34m,\u001b[0m \u001b[0mcolor\u001b[0m \u001b[0;34m=\u001b[0m \u001b[0;34m'borough'\u001b[0m\u001b[0;34m)\u001b[0m\u001b[0;34m.\u001b[0m\u001b[0mupdate_xaxes\u001b[0m\u001b[0;34m(\u001b[0m\u001b[0mcategoryorder\u001b[0m \u001b[0;34m=\u001b[0m \u001b[0;34m\"total descending\"\u001b[0m\u001b[0;34m)\u001b[0m\u001b[0;34m\u001b[0m\u001b[0;34m\u001b[0m\u001b[0m\n\u001b[0m\u001b[1;32m      2\u001b[0m \u001b[0mfig\u001b[0m\u001b[0;34m.\u001b[0m\u001b[0mupdate_layout\u001b[0m\u001b[0;34m(\u001b[0m\u001b[0mtitle\u001b[0m\u001b[0;34m=\u001b[0m\u001b[0;34m\"Number of permits granted in each category of shooting activity\"\u001b[0m\u001b[0;34m)\u001b[0m\u001b[0;34m\u001b[0m\u001b[0;34m\u001b[0m\u001b[0m\n\u001b[1;32m      3\u001b[0m \u001b[0mfig\u001b[0m\u001b[0;34m.\u001b[0m\u001b[0mshow\u001b[0m\u001b[0;34m(\u001b[0m\u001b[0;34m)\u001b[0m\u001b[0;34m\u001b[0m\u001b[0;34m\u001b[0m\u001b[0m\n",
      "\u001b[0;31mNameError\u001b[0m: name 'px' is not defined"
     ]
    }
   ],
   "source": [
    "##This snippet works\n",
    "\n",
    "fig = px.histogram(film_permits, x='category', color = 'borough').update_xaxes(categoryorder = \"total descending\")\n",
    "fig.update_layout(title=\"Number of permits granted in each category of shooting activity\")\n",
    "fig.show()"
   ]
  },
  {
   "cell_type": "code",
   "execution_count": 3,
   "id": "70aa7277",
   "metadata": {},
   "outputs": [
    {
     "ename": "NameError",
     "evalue": "name 'alt' is not defined",
     "output_type": "error",
     "traceback": [
      "\u001b[0;31m---------------------------------------------------------------------------\u001b[0m",
      "\u001b[0;31mNameError\u001b[0m                                 Traceback (most recent call last)",
      "\u001b[0;32m/var/folders/hz/r5f1xnns3356kl1typclq6k40000gn/T/ipykernel_85775/905343785.py\u001b[0m in \u001b[0;36m<module>\u001b[0;34m\u001b[0m\n\u001b[1;32m      1\u001b[0m \u001b[0;31m##This doesn't work\u001b[0m\u001b[0;34m\u001b[0m\u001b[0;34m\u001b[0m\u001b[0;34m\u001b[0m\u001b[0m\n\u001b[0;32m----> 2\u001b[0;31m chart1 = alt.Chart(film_permits)({\n\u001b[0m\u001b[1;32m      3\u001b[0m   \"data\": {\n\u001b[1;32m      4\u001b[0m     \u001b[0;34m\"values\"\u001b[0m\u001b[0;34m:\u001b[0m \u001b[0;34m[\u001b[0m\u001b[0;34m{\u001b[0m\u001b[0;34m\"x\"\u001b[0m\u001b[0;34m:\u001b[0m\u001b[0mfilm_permits\u001b[0m\u001b[0;34m[\u001b[0m\u001b[0;34m'category'\u001b[0m\u001b[0;34m]\u001b[0m \u001b[0;34m}\u001b[0m\u001b[0;34m]\u001b[0m\u001b[0;34m,\u001b[0m\u001b[0;34m\u001b[0m\u001b[0;34m\u001b[0m\u001b[0m\n\u001b[1;32m      5\u001b[0m   },\n",
      "\u001b[0;31mNameError\u001b[0m: name 'alt' is not defined"
     ]
    }
   ],
   "source": [
    "\n",
    "##This doesn't work\n",
    "chart1 = alt.Chart(film_permits)({\n",
    "  \"data\": {\n",
    "    \"values\": [{\"x\":film_permits['category'] }],\n",
    "  },\n",
    "  \"selection\":{\"brush\":{\"type\":\"interval\"}},\n",
    "  \"transform\":[\n",
    "    {\"flatten\":[\"x\",\"y\"]},\n",
    "  ], \n",
    "  \"mark\":{\"type\":\"bar\", \"tooltip\":True},\n",
    "  \"encoding\":{\n",
    "    \"x\":{\"field\":\"x\", \"type\":\"category\", \n",
    "        \"axis\": {\n",
    "          \"title\" : \"Category\"\n",
    "        }},\n",
    "    \"y\":{\"field\":\"y\",\n",
    "      \"axis\": {\n",
    "        \"title\": \"count\"\n",
    "      }},\n",
    "    \"color\":{\"condition\":{\"selection\":\"brush\", \"value\": \"green\"}, \"value\": \"blue\"}\n",
    "  }\n",
    "}\n",
    ").properties(\n",
    "    width=800,\n",
    "    height=500,\n",
    "    title=\"Square Footage VS Total Floors\")"
   ]
  },
  {
   "cell_type": "code",
   "execution_count": 4,
   "id": "b9c7aa2a",
   "metadata": {},
   "outputs": [
    {
     "ename": "NameError",
     "evalue": "name 'alt' is not defined",
     "output_type": "error",
     "traceback": [
      "\u001b[0;31m---------------------------------------------------------------------------\u001b[0m",
      "\u001b[0;31mNameError\u001b[0m                                 Traceback (most recent call last)",
      "\u001b[0;32m/var/folders/hz/r5f1xnns3356kl1typclq6k40000gn/T/ipykernel_85775/1697906785.py\u001b[0m in \u001b[0;36m<module>\u001b[0;34m\u001b[0m\n\u001b[1;32m      2\u001b[0m \u001b[0;34m\u001b[0m\u001b[0m\n\u001b[1;32m      3\u001b[0m \u001b[0;31m#film_permits2=film_permits.iloc[:4000]\u001b[0m\u001b[0;34m\u001b[0m\u001b[0;34m\u001b[0m\u001b[0;34m\u001b[0m\u001b[0m\n\u001b[0;32m----> 4\u001b[0;31m \u001b[0malt\u001b[0m\u001b[0;34m.\u001b[0m\u001b[0mdata_transformers\u001b[0m\u001b[0;34m.\u001b[0m\u001b[0mdisable_max_rows\u001b[0m\u001b[0;34m(\u001b[0m\u001b[0;34m)\u001b[0m\u001b[0;34m\u001b[0m\u001b[0;34m\u001b[0m\u001b[0m\n\u001b[0m\u001b[1;32m      5\u001b[0m \u001b[0;34m\u001b[0m\u001b[0m\n\u001b[1;32m      6\u001b[0m \u001b[0;31m#selection = alt.selection_point(fields=['symbol'], bind='legend')\u001b[0m\u001b[0;34m\u001b[0m\u001b[0;34m\u001b[0m\u001b[0;34m\u001b[0m\u001b[0m\n",
      "\u001b[0;31mNameError\u001b[0m: name 'alt' is not defined"
     ]
    }
   ],
   "source": [
    "##Doesn't work\n",
    "\n",
    "#film_permits2=film_permits.iloc[:4000]\n",
    "alt.data_transformers.disable_max_rows()\n",
    "\n",
    "#selection = alt.selection_point(fields=['symbol'], bind='legend')\n",
    "base = alt.Chart(film_permits).mark_line(point=True).encode(\n",
    "    x='category',\n",
    "    y='category',\n",
    "    color='borough',\n",
    "    tooltip=['symbol'],\n",
    "    opacity=alt.condition(selection, alt.value(1), alt.value(0.2)),\n",
    "    size=alt.condition(~selection, alt.value(1), alt.value(3))\n",
    ").add_params(\n",
    "    selection\n",
    ")\n",
    "base"
   ]
  },
  {
   "cell_type": "code",
   "execution_count": 5,
   "id": "cbeabf4a",
   "metadata": {},
   "outputs": [
    {
     "ename": "NameError",
     "evalue": "name 'px' is not defined",
     "output_type": "error",
     "traceback": [
      "\u001b[0;31m---------------------------------------------------------------------------\u001b[0m",
      "\u001b[0;31mNameError\u001b[0m                                 Traceback (most recent call last)",
      "\u001b[0;32m/var/folders/hz/r5f1xnns3356kl1typclq6k40000gn/T/ipykernel_85775/3660630645.py\u001b[0m in \u001b[0;36m<module>\u001b[0;34m\u001b[0m\n\u001b[1;32m      1\u001b[0m \u001b[0;31m#Works partially doesn;t save\u001b[0m\u001b[0;34m\u001b[0m\u001b[0;34m\u001b[0m\u001b[0;34m\u001b[0m\u001b[0m\n\u001b[1;32m      2\u001b[0m \u001b[0;34m\u001b[0m\u001b[0m\n\u001b[0;32m----> 3\u001b[0;31m \u001b[0mfig\u001b[0m \u001b[0;34m=\u001b[0m \u001b[0mpx\u001b[0m\u001b[0;34m.\u001b[0m\u001b[0mhistogram\u001b[0m\u001b[0;34m(\u001b[0m\u001b[0mfilm_permits\u001b[0m\u001b[0;34m,\u001b[0m \u001b[0mx\u001b[0m\u001b[0;34m=\u001b[0m\u001b[0;34m'eventtype'\u001b[0m\u001b[0;34m)\u001b[0m\u001b[0;34m.\u001b[0m\u001b[0mupdate_xaxes\u001b[0m\u001b[0;34m(\u001b[0m\u001b[0mcategoryorder\u001b[0m \u001b[0;34m=\u001b[0m \u001b[0;34m\"total descending\"\u001b[0m\u001b[0;34m)\u001b[0m\u001b[0;34m\u001b[0m\u001b[0;34m\u001b[0m\u001b[0m\n\u001b[0m\u001b[1;32m      4\u001b[0m \u001b[0mfig\u001b[0m\u001b[0;34m.\u001b[0m\u001b[0mupdate_layout\u001b[0m\u001b[0;34m(\u001b[0m\u001b[0mtitle\u001b[0m\u001b[0;34m=\u001b[0m\u001b[0;34m\"Number of permits granted per event type\"\u001b[0m\u001b[0;34m)\u001b[0m\u001b[0;34m\u001b[0m\u001b[0;34m\u001b[0m\u001b[0m\n\u001b[1;32m      5\u001b[0m \u001b[0mfig\u001b[0m\u001b[0;34m.\u001b[0m\u001b[0mshow\u001b[0m\u001b[0;34m(\u001b[0m\u001b[0;34m)\u001b[0m\u001b[0;34m\u001b[0m\u001b[0;34m\u001b[0m\u001b[0m\n",
      "\u001b[0;31mNameError\u001b[0m: name 'px' is not defined"
     ]
    }
   ],
   "source": [
    "#Works partially doesn;t save\n",
    "\n",
    "fig = px.histogram(film_permits, x='eventtype').update_xaxes(categoryorder = \"total descending\")\n",
    "fig.update_layout(title=\"Number of permits granted per event type\")\n",
    "fig.show()\n",
    "fig.savefig(\"/Users/chetnaberi/Documents/Data Viz/ASSIGNMENT 10/assets/json/FP_Chart2.jpg\")"
   ]
  },
  {
   "cell_type": "code",
   "execution_count": 6,
   "id": "4d9e9fae",
   "metadata": {},
   "outputs": [
    {
     "ename": "NameError",
     "evalue": "name 'film_permits' is not defined",
     "output_type": "error",
     "traceback": [
      "\u001b[0;31m---------------------------------------------------------------------------\u001b[0m",
      "\u001b[0;31mNameError\u001b[0m                                 Traceback (most recent call last)",
      "\u001b[0;32m/var/folders/hz/r5f1xnns3356kl1typclq6k40000gn/T/ipykernel_85775/3637777712.py\u001b[0m in \u001b[0;36m<module>\u001b[0;34m\u001b[0m\n\u001b[1;32m      1\u001b[0m \u001b[0;31m#Doesn't work\u001b[0m\u001b[0;34m\u001b[0m\u001b[0;34m\u001b[0m\u001b[0;34m\u001b[0m\u001b[0m\n\u001b[1;32m      2\u001b[0m \u001b[0;34m\u001b[0m\u001b[0m\n\u001b[0;32m----> 3\u001b[0;31m \u001b[0mdata\u001b[0m\u001b[0;34m=\u001b[0m\u001b[0mfilm_permits\u001b[0m\u001b[0;34m[\u001b[0m\u001b[0;34m'category'\u001b[0m\u001b[0;34m]\u001b[0m\u001b[0;34m.\u001b[0m\u001b[0mvalue_counts\u001b[0m\u001b[0;34m(\u001b[0m\u001b[0;34m)\u001b[0m\u001b[0;34m\u001b[0m\u001b[0;34m\u001b[0m\u001b[0m\n\u001b[0m\u001b[1;32m      4\u001b[0m \u001b[0metype\u001b[0m\u001b[0;34m=\u001b[0m\u001b[0mfilm_permits\u001b[0m\u001b[0;34m[\u001b[0m\u001b[0;34m'category'\u001b[0m\u001b[0;34m]\u001b[0m\u001b[0;34m.\u001b[0m\u001b[0munique\u001b[0m\u001b[0;34m(\u001b[0m\u001b[0;34m)\u001b[0m\u001b[0;34m\u001b[0m\u001b[0;34m\u001b[0m\u001b[0m\n\u001b[1;32m      5\u001b[0m \u001b[0;31m#data2=pd.DataFrame(data,index=etype.rows())\u001b[0m\u001b[0;34m\u001b[0m\u001b[0;34m\u001b[0m\u001b[0;34m\u001b[0m\u001b[0m\n",
      "\u001b[0;31mNameError\u001b[0m: name 'film_permits' is not defined"
     ]
    }
   ],
   "source": [
    "#Doesn't work\n",
    "\n",
    "data=film_permits['category'].value_counts()\n",
    "etype=film_permits['category'].unique()\n",
    "#data2=pd.DataFrame(data,index=etype.rows())\n",
    "#etype=etype.keys()\n",
    "#count=etype.to_numpy()\n",
    "etype2=[]\n",
    "data2=[]\n",
    "#for i in range(0,9):\n",
    " #   etype2.append(etype[i])\n",
    "    \n",
    "\n",
    "##data2=pd.DataFrame(data2).to_numpy()\n",
    "#for i in range(0,9):\n",
    " #   data2.append(data[i])\n",
    "\n",
    "data2=pd.DataFrame(etype, index=e)\n",
    "data2"
   ]
  },
  {
   "cell_type": "code",
   "execution_count": 7,
   "id": "4df3c2b0",
   "metadata": {},
   "outputs": [
    {
     "ename": "NameError",
     "evalue": "name 'film_permits' is not defined",
     "output_type": "error",
     "traceback": [
      "\u001b[0;31m---------------------------------------------------------------------------\u001b[0m",
      "\u001b[0;31mNameError\u001b[0m                                 Traceback (most recent call last)",
      "\u001b[0;32m/var/folders/hz/r5f1xnns3356kl1typclq6k40000gn/T/ipykernel_85775/1004445638.py\u001b[0m in \u001b[0;36m<module>\u001b[0;34m\u001b[0m\n\u001b[1;32m      1\u001b[0m \u001b[0;31m##Doesn't work\u001b[0m\u001b[0;34m\u001b[0m\u001b[0;34m\u001b[0m\u001b[0;34m\u001b[0m\u001b[0m\n\u001b[1;32m      2\u001b[0m \u001b[0;34m\u001b[0m\u001b[0m\n\u001b[0;32m----> 3\u001b[0;31m \u001b[0mfilm_permits2\u001b[0m\u001b[0;34m=\u001b[0m\u001b[0mfilm_permits\u001b[0m\u001b[0;34m.\u001b[0m\u001b[0miloc\u001b[0m\u001b[0;34m[\u001b[0m\u001b[0;34m:\u001b[0m\u001b[0;36m4000\u001b[0m\u001b[0;34m]\u001b[0m\u001b[0;34m\u001b[0m\u001b[0;34m\u001b[0m\u001b[0m\n\u001b[0m\u001b[1;32m      4\u001b[0m \u001b[0;34m\u001b[0m\u001b[0m\n\u001b[1;32m      5\u001b[0m \u001b[0;31m#count=film_permits['borough'].value_counts()\u001b[0m\u001b[0;34m\u001b[0m\u001b[0;34m\u001b[0m\u001b[0;34m\u001b[0m\u001b[0m\n",
      "\u001b[0;31mNameError\u001b[0m: name 'film_permits' is not defined"
     ]
    }
   ],
   "source": [
    "##Doesn't work\n",
    "\n",
    "film_permits2=film_permits.iloc[:4000]\n",
    "\n",
    "#count=film_permits['borough'].value_counts()\n",
    "#alt.Chart(film_permits).mark_arc().encode(color=\"borough\", theta=\"borough\")\n",
    "\n",
    "def chart_selector(selector):\n",
    "    alt.data_transformers.disable_max_rows()\n",
    "    return alt.Chart(film_permits).mark_arc().encode(\n",
    "        color=\"eventtype:O\",\n",
    "        theta=\"day_difference:Q\",\n",
    "        #color=alt.condition(selector, 'count()', alt.value('lightgray'))\n",
    "    ).properties(\n",
    "        width=300,\n",
    "        height=180\n",
    "    ).add_params(\n",
    "        selector\n",
    "    )\n",
    "interval = alt.selection_interval()\n",
    "chart_selector(interval)\n",
    "        \n",
    "#selection = alt.selection_multi(fields=['symbol'], bind='legend')\n",
    "    #alt.Chart(film_permits).mark_arc().encode(color=\"eventtype\", theta=\"day_difference\",\n",
    "     #                                     opacity=alt.condition(selection, alt.value(1), alt.value(0.2)),\n",
    "      #                                   size=alt.condition(~selection, alt.value(1), alt.value(3))).add_params(selection)"
   ]
  },
  {
   "cell_type": "code",
   "execution_count": null,
   "id": "b2883c11",
   "metadata": {},
   "outputs": [],
   "source": []
  }
 ],
 "metadata": {
  "kernelspec": {
   "display_name": "Python 3 (ipykernel)",
   "language": "python",
   "name": "python3"
  },
  "language_info": {
   "codemirror_mode": {
    "name": "ipython",
    "version": 3
   },
   "file_extension": ".py",
   "mimetype": "text/x-python",
   "name": "python",
   "nbconvert_exporter": "python",
   "pygments_lexer": "ipython3",
   "version": "3.7.12"
  }
 },
 "nbformat": 4,
 "nbformat_minor": 5
}
